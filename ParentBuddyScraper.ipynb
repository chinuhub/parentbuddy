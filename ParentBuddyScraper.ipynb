{
 "cells": [
  {
   "cell_type": "code",
   "execution_count": 52,
   "metadata": {
    "collapsed": true
   },
   "outputs": [],
   "source": [
    "import html5lib.treebuilders.base\n",
    "html5lib.treebuilders._base= html5lib.treebuilders.base\n",
    "from bs4 import BeautifulSoup\n",
    "import pandas"
   ]
  },
  {
   "cell_type": "code",
   "execution_count": 53,
   "metadata": {},
   "outputs": [],
   "source": [
    "text_file = open('resources/scraped/1/1.html', 'r')\n",
    "html = text_file.read()\n"
   ]
  },
  {
   "cell_type": "code",
   "execution_count": 54,
   "metadata": {},
   "outputs": [],
   "source": [
    "##Testing code for dataframe construction (empty and single row and their concatenation)\n",
    "mcollector = pandas.DataFrame(columns=['messageid','message'])\n",
    "mtreecollector = pandas.DataFrame(columns=['pmsgid','cmsgid'])\n",
    "msgid=1 #initialize message id as 1.\n",
    "# newone = pandas.DataFrame({'messageid' : [1.,2.], 'message' : ['test message','dd']})\n",
    "# f = collector.append(newone)\n",
    "# print(f)"
   ]
  },
  {
   "cell_type": "code",
   "execution_count": 55,
   "metadata": {
    "collapsed": true
   },
   "outputs": [],
   "source": [
    "def addMessage(msgid,msg,mcollector):\n",
    "    #add msgid and msg to mcollector and return the modifed dataframe \n",
    "    #create a single row dataframe\n",
    "    newone = pandas.DataFrame({'messageid':[msgid], 'message':[msg]})\n",
    "    #append to mcollector and return the modified one\n",
    "    return mcollector.append(newone)"
   ]
  },
  {
   "cell_type": "code",
   "execution_count": 56,
   "metadata": {
    "collapsed": true
   },
   "outputs": [],
   "source": [
    "def addParentChildRelation(pmsgid,cmsgid,mtreecollector):\n",
    "    #add parent's msgid and child's msgi to mtreecollector and return the modified dataframe\n",
    "    #create a single row dataframe\n",
    "    newone = pandas.DataFrame({'pmsgid':[pmsgid], 'cmsgid':cmsgid})\n",
    "    #append to mtreecollector and return the modified one\n",
    "    return mtreecollector.append(newone)"
   ]
  },
  {
   "cell_type": "code",
   "execution_count": 57,
   "metadata": {},
   "outputs": [
    {
     "name": "stdout",
     "output_type": "stream",
     "text": [
      "7\n"
     ]
    }
   ],
   "source": [
    "s= BeautifulSoup(html,\"lxml\")\n",
    "\n",
    "# If parent.parent.attrs is xg_module_body then it means it is the topmost question\n",
    "# If parent.parent.attrs is i0,i1 etc. then we need to establish the ordering of \n",
    "# questions and answers. FOr more info run the following commented code.\n",
    "# for descriptions in s.select('div.description'):\n",
    "#     print(descriptions.parent.parent.attrs['class'])\n",
    "\n",
    "lastOccurrences={}\n",
    "global msgid, mcollector,mtreecollector\n",
    "# Find all <p> tags in div.description and extract their text. The concatenated result\n",
    "# will form the body of the reply (question or answer). For more info run the following code.\n",
    "for description in s.select('div.description'):\n",
    "    #Get the content of the description in a variable 'res'\n",
    "    res=\"\"\n",
    "    for pars in description.find_all('p'):\n",
    "        res = res+'\\n'+(pars.getText())\n",
    "    #find the parent.parent.attrs of this description and set it as question/answer\n",
    "    #accordingly\n",
    "    if description.parent.parent.attrs['class'][0] == \"xg_module_body\":\n",
    "        #means it is topmost question\n",
    "        res='QUESTION: \\n'+res\n",
    "        #get anew message id\n",
    "        msgid=msgid+1\n",
    "        #add message id and res in the message table.\n",
    "        mcollector = addMessage(msg=res,msgid=msgid,mcollector=mcollector)\n",
    "        #set this message id for -1 in lastOccurrence dictionary.\n",
    "        lastOccurrences[-1]=msgid\n",
    "    elif description.parent.parent.attrs['class'][0] == \"discussion\":\n",
    "        #means it is one of the discussion, now extract it's id and based on that \n",
    "        #set it as a reply to previous question of a new question.\n",
    "        res='DISCUSSION:\\n'+res\n",
    "        #extract its number\n",
    "        num = description.parent.parent.attrs['class'][2]\n",
    "        num=int(num[len(num)-1])\n",
    "        #get a new message id\n",
    "        msgid=msgid+1\n",
    "        #add message id and res in the message table.\n",
    "        mcollector = addMessage(msg=res, msgid=msgid,mcollector=mcollector)\n",
    "        #get it's parent's infonumber (to handle 0, set the original question's message id\n",
    "        #at -1)\n",
    "        parentinfonumber = num-1\n",
    "        assert parentinfonumber in lastOccurrences, 'Some serious error as the parent entry is not yet added'\n",
    "        parentmsgid = lastOccurrences[parentinfonumber]        \n",
    "        #add parentmessageid and this message id in messagetree table.\n",
    "        mtreecollector = addParentChildRelation(pmsgid=parentmsgid,cmsgid=msgid,mtreecollector=mtreecollector)\n",
    "        #set this message id for num in lastOccurence dictionary.\n",
    "        lastOccurrences[num]=msgid\n",
    "    else:\n",
    "            print('Serious error: Not accounted for')\n",
    "    #print(res+'\\n-------------------------------------------\\n')\n",
    "\n",
    "print(msgid)\n",
    "#write dataframes to csv files.\n",
    "#print(mcollector)\n",
    "mcollector.to_csv('resources/scraped/messages.csv',index=False)\n",
    "mtreecollector.to_csv('resources/scraped/mtree.csv',index=False)\n",
    "\n"
   ]
  },
  {
   "cell_type": "code",
   "execution_count": null,
   "metadata": {
    "collapsed": true
   },
   "outputs": [],
   "source": []
  }
 ],
 "metadata": {
  "kernelspec": {
   "display_name": "Python 3",
   "language": "python",
   "name": "python3"
  },
  "language_info": {
   "codemirror_mode": {
    "name": "ipython",
    "version": 3
   },
   "file_extension": ".py",
   "mimetype": "text/x-python",
   "name": "python",
   "nbconvert_exporter": "python",
   "pygments_lexer": "ipython3",
   "version": "3.5.2"
  }
 },
 "nbformat": 4,
 "nbformat_minor": 2
}
