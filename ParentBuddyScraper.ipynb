{
 "cells": [
  {
   "cell_type": "code",
   "execution_count": 86,
   "metadata": {
    "collapsed": true
   },
   "outputs": [],
   "source": [
    "import html5lib.treebuilders.base\n",
    "html5lib.treebuilders._base= html5lib.treebuilders.base\n",
    "from bs4 import BeautifulSoup\n",
    "import pandas"
   ]
  },
  {
   "cell_type": "code",
   "execution_count": 87,
   "metadata": {
    "collapsed": true
   },
   "outputs": [],
   "source": [
    "import re\n",
    "\n",
    "def tryint(s):\n",
    "    try:\n",
    "        return int(s)\n",
    "    except:\n",
    "        return s\n",
    "\n",
    "def alphanum_key(s):\n",
    "    \"\"\" Turn a string into a list of string and number chunks.\n",
    "        \"z23a\" -> [\"z\", 23, \"a\"]\n",
    "    \"\"\"\n",
    "    return [ tryint(c) for c in re.split('([0-9]+)', s) ]\n",
    "\n",
    "def sort_nicely(l):\n",
    "    \"\"\" Sort the given list in the way that humans expect.\n",
    "    \"\"\"\n",
    "    l.sort(key=alphanum_key)"
   ]
  },
  {
   "cell_type": "code",
   "execution_count": 88,
   "metadata": {
    "collapsed": true
   },
   "outputs": [],
   "source": [
    "##Testing code for dataframe construction (empty and single row and their concatenation)\n",
    "mcollector = pandas.DataFrame(columns=['messageid','message'])\n",
    "mtreecollector = pandas.DataFrame(columns=['pmsgid','cmsgid'])\n",
    "msgid=1 #initialize message id as 1.\n",
    "# newone = pandas.DataFrame({'messageid' : [1.,2.], 'message' : ['test message','dd']})\n",
    "# f = collector.append(newone)\n",
    "# print(f)"
   ]
  },
  {
   "cell_type": "code",
   "execution_count": 89,
   "metadata": {
    "collapsed": true
   },
   "outputs": [],
   "source": [
    "def addMessage(msgid,msg,mcollector):\n",
    "    #add msgid and msg to mcollector and return the modifed dataframe \n",
    "    #create a single row dataframe\n",
    "    newone = pandas.DataFrame({'messageid':[msgid], 'message':[msg]})\n",
    "    #append to mcollector and return the modified one\n",
    "    return mcollector.append(newone)"
   ]
  },
  {
   "cell_type": "code",
   "execution_count": 90,
   "metadata": {
    "collapsed": true
   },
   "outputs": [],
   "source": [
    "def addParentChildRelation(pmsgid,cmsgid,mtreecollector):\n",
    "    #add parent's msgid and child's msgi to mtreecollector and return the modified dataframe\n",
    "    #create a single row dataframe\n",
    "    newone = pandas.DataFrame({'pmsgid':[pmsgid], 'cmsgid':cmsgid})\n",
    "    #append to mtreecollector and return the modified one\n",
    "    return mtreecollector.append(newone)"
   ]
  },
  {
   "cell_type": "code",
   "execution_count": 91,
   "metadata": {},
   "outputs": [],
   "source": [
    "def scrapAndStore(filename,lastOccurrences):\n",
    "    text_file = open(filename, 'r')\n",
    "    html = text_file.read()\n",
    "    s= BeautifulSoup(html,\"lxml\")\n",
    "\n",
    "    # If parent.parent.attrs is xg_module_body then it means it is the topmost question\n",
    "    # If parent.parent.attrs is i0,i1 etc. then we need to establish the ordering of \n",
    "    # questions and answers. FOr more info run the following commented code.\n",
    "    # for descriptions in s.select('div.description'):\n",
    "    #     print(descriptions.parent.parent.attrs['class'])\n",
    "    global msgid, mcollector,mtreecollector\n",
    "    # Find all <p> tags in div.description and extract their text. The concatenated result\n",
    "    # will form the body of the reply (question or answer). For more info run the following code.\n",
    "    for description in s.select('div.description'):\n",
    "        #Get the content of the description in a variable 'res'\n",
    "        res=\"\"\n",
    "        for pars in description.find_all('p'):\n",
    "            res = res+'\\n'+(pars.getText())\n",
    "        #find the parent.parent.attrs of this description and set it as question/answer\n",
    "        #accordingly\n",
    "        #print(res)\n",
    "        if description.parent.parent.attrs['class'][0] == \"xg_module_body\":\n",
    "            #means it is topmost question\n",
    "            #get anew message id\n",
    "            msgid=msgid+1\n",
    "            #add message id and res in the message table.\n",
    "            mcollector = addMessage(msg=res,msgid=msgid,mcollector=mcollector)\n",
    "            #set this message id for -1 in lastOccurrence dictionary.\n",
    "            lastOccurrences[-1]=msgid\n",
    "        elif description.parent.parent.attrs['class'][0] == \"discussion\":\n",
    "            #means it is one of the discussion, now extract it's id and based on that \n",
    "            #set it as a reply to previous question of a new question.\n",
    "            #extract its number\n",
    "            num = description.parent.parent.attrs['class'][2]\n",
    "            #print(num)\n",
    "            num=int(num[len(num)-1])\n",
    "            #get a new message id\n",
    "            msgid=msgid+1\n",
    "            #add message id and res in the message table.\n",
    "            mcollector = addMessage(msg=res, msgid=msgid,mcollector=mcollector)\n",
    "            #get it's parent's infonumber (to handle 0, set the original question's message id\n",
    "            #at -1)\n",
    "            parentinfonumber = num-1\n",
    "            #print(parentinfonumber)\n",
    "            if not parentinfonumber in lastOccurrences:\n",
    "                print('Some serious error as the parent entry is not yet added for this message')\n",
    "                print(res)\n",
    "            else:\n",
    "                parentmsgid = lastOccurrences[parentinfonumber]        \n",
    "                #add parentmessageid and this message id in messagetree table.\n",
    "                mtreecollector = addParentChildRelation(pmsgid=parentmsgid,cmsgid=msgid,mtreecollector=mtreecollector)\n",
    "                #set this message id for num in lastOccurence dictionary.\n",
    "                lastOccurrences[num]=msgid\n",
    "        else:\n",
    "            print('Serious error: Not accounted for')\n",
    "    #print(res+'\\n-------------------------------------------\\n')\n",
    "    #write dataframes to csv files.\n",
    "    #print(mcollector)\n",
    "    return lastOccurrences\n"
   ]
  },
  {
   "cell_type": "code",
   "execution_count": 92,
   "metadata": {},
   "outputs": [
    {
     "name": "stdout",
     "output_type": "stream",
     "text": [
      "Some serious error as the parent entry is not yet added for this message\n",
      "\n",
      "congrats :)\n"
     ]
    }
   ],
   "source": [
    "#iterate over all directories in resources/scraped\n",
    "#iterate over all files in that directory - in sorted order\n",
    "import os\n",
    "rootdir = 'resources/scraped'\n",
    "for root, dirs,files in os.walk(rootdir):\n",
    "    #skip the resources/scraped directory we are interested only in the subdirectories\n",
    "    #present in rootdir\n",
    "    if(root==rootdir):\n",
    "        continue\n",
    "    #sort the list of files so that we get html files in the order of number 1.html,2.html etc.\n",
    "    sort_nicely(files)#used someone else function to do human based sorting.\n",
    "    #iterate over sorted file list and create the path of file by concatenating.\n",
    "    ##Here reset lastOccurrence map by removing everything\n",
    "    lastOccurrence = {}\n",
    "    for f in files:\n",
    "        fname = (os.path.join(root,f))\n",
    "        #invoke scrapAndStore with filename and lastOccurrence\n",
    "        #print('scraping '+fname)\n",
    "        lastOccurrence = scrapAndStore(fname,lastOccurrence)\n",
    "        #print('scraped '+fname)\n",
    "        \n",
    "mcollector.to_csv('resources/scraped/messages.csv',index=False)\n",
    "mtreecollector.to_csv('resources/scraped/mtree.csv',index=False)\n",
    "\n",
    "        "
   ]
  },
  {
   "cell_type": "code",
   "execution_count": null,
   "metadata": {
    "collapsed": true
   },
   "outputs": [],
   "source": []
  }
 ],
 "metadata": {
  "kernelspec": {
   "display_name": "Python 3",
   "language": "python",
   "name": "python3"
  },
  "language_info": {
   "codemirror_mode": {
    "name": "ipython",
    "version": 3
   },
   "file_extension": ".py",
   "mimetype": "text/x-python",
   "name": "python",
   "nbconvert_exporter": "python",
   "pygments_lexer": "ipython3",
   "version": "3.5.2"
  }
 },
 "nbformat": 4,
 "nbformat_minor": 2
}
