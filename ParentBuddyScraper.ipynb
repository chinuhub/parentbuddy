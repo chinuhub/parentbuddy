{
 "cells": [
  {
   "cell_type": "code",
   "execution_count": 1,
   "metadata": {
    "collapsed": true
   },
   "outputs": [],
   "source": [
    "import html5lib.treebuilders.base\n",
    "html5lib.treebuilders._base= html5lib.treebuilders.base\n",
    "from bs4 import BeautifulSoup"
   ]
  },
  {
   "cell_type": "code",
   "execution_count": 136,
   "metadata": {
    "collapsed": true
   },
   "outputs": [],
   "source": [
    "text_file = open('resources/scraped/1/1.html', 'r')\n",
    "html = text_file.read()\n"
   ]
  },
  {
   "cell_type": "code",
   "execution_count": 142,
   "metadata": {},
   "outputs": [
    {
     "name": "stdout",
     "output_type": "stream",
     "text": [
      "['xg_module_body']\n",
      "['discussion', 'clear', 'i0', 'xg_lightborder']\n",
      "['discussion', 'clear', 'i1', 'xg_lightborder']\n",
      "['discussion', 'clear', 'i2', 'xg_lightborder']\n",
      "['discussion', 'clear', 'i3', 'xg_lightborder']\n",
      "['discussion', 'clear', 'i4', 'xg_lightborder']\n",
      "QUESTION: \n",
      "\n",
      "Hi all,\n",
      "Please suggest a few good schools in and near Indirapuram. My \n",
      "daughter is 3+ and i am interested in schools which do not overburden \n",
      "small kids with lot of academic work.\n",
      "Could you please rate these schools on the above mentioned criteria :\n",
      "DPS Indirapuram\n",
      "Amity Vasundhara sec 1 & 6\n",
      "Father Agnel, Noida\n",
      "St. Francis, Vasundhara\n",
      "Cambridge, Indirapuram\n",
      "\n",
      "Thanks!!\n",
      "-------------------------------------------\n",
      "\n",
      "DISCUSSION:\n",
      "\n",
      "Gargi\n",
      "See this\n",
      "http://www.admissionsnursery.com/forum/topics/nursery-admissions-in...\n",
      "i0\n",
      "-------------------------------------------\n",
      "\n",
      "DISCUSSION:\n",
      "\n",
      "thanks a lot Sakshi !\n",
      "Please give some idea about what we need to keep handy before filling any online form.\n",
      "Tnx in advance :)\n",
      "i1\n",
      "-------------------------------------------\n",
      "\n",
      "DISCUSSION:\n",
      "\n",
      "Pls see\n",
      "http://www.admissionsnursery.com/page/documents-required-1\n",
      "i2\n",
      "-------------------------------------------\n",
      "\n",
      "DISCUSSION:\n",
      "\n",
      "Hi Sakshi,\n",
      "Need your help!! can you please tell me what is the difference between Amity International, Vasundhara Sec 1 & Sec 6.\n",
      "Need to know which branch is better for Nursery admissions as we can apply only in one branch.\n",
      "Thanks in advance :) and also thanks for keeping us updated :)\n",
      "Gargi\n",
      "i3\n",
      "-------------------------------------------\n",
      "\n",
      "DISCUSSION:\n",
      "\n",
      "Gargi\n",
      "Sec 6 old established n sought after > Sec 1(vacancies open round the year )\n",
      "i4\n",
      "-------------------------------------------\n",
      "\n"
     ]
    }
   ],
   "source": [
    "s= BeautifulSoup(html,\"lxml\")\n",
    "\n",
    "# If parent.parent.attrs is xg_module_body then it means it is the topmost question\n",
    "# If parent.parent.attrs is i0,i1 etc. then we need to establish the ordering of \n",
    "# questions and answers. FOr more info run the following commented code.\n",
    "for descriptions in s.select('div.description'):\n",
    "    print(descriptions.parent.parent.attrs['class'])\n",
    "\n",
    "\n",
    "# Find all <p> tags in div.description and extract their text. The concatenated result\n",
    "# will form the body of the reply (question or answer). For more info run the following code.\n",
    "for description in s.select('div.description'):\n",
    "    #Get the content of the description in a variable 'res'\n",
    "    res=\"\"\n",
    "    for pars in description.find_all('p'):\n",
    "        res = res+'\\n'+(pars.getText())\n",
    "    #find the parent.parent.attrs of this description and set it as question/answer\n",
    "    #accordingly\n",
    "    if description.parent.parent.attrs['class'][0] == \"xg_module_body\":\n",
    "        #means it is topmost question\n",
    "        res='QUESTION: \\n'+res\n",
    "    elif description.parent.parent.attrs['class'][0] == \"discussion\":\n",
    "        #means it is one of the discussion, now extract it's id and based on that \n",
    "        #set it as a reply to previous question of a new question.\n",
    "        res='DISCUSSION:\\n'+res\n",
    "        #extract its number\n",
    "        num = description.parent.parent.attrs['class'][2]\n",
    "        res = res+'\\n'+num\n",
    "    else:\n",
    "            print('Serious error: Not accounted for')\n",
    "    print(res+'\\n-------------------------------------------\\n')\n",
    "\n",
    "\n"
   ]
  },
  {
   "cell_type": "code",
   "execution_count": null,
   "metadata": {
    "collapsed": true
   },
   "outputs": [],
   "source": []
  }
 ],
 "metadata": {
  "kernelspec": {
   "display_name": "Python 3",
   "language": "python",
   "name": "python3"
  },
  "language_info": {
   "codemirror_mode": {
    "name": "ipython",
    "version": 3
   },
   "file_extension": ".py",
   "mimetype": "text/x-python",
   "name": "python",
   "nbconvert_exporter": "python",
   "pygments_lexer": "ipython3",
   "version": "3.5.2"
  }
 },
 "nbformat": 4,
 "nbformat_minor": 2
}
